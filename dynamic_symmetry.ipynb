{
 "cells": [
  {
   "attachments": {},
   "cell_type": "markdown",
   "metadata": {},
   "source": [
    "# 1. Code Definition"
   ]
  },
  {
   "cell_type": "code",
   "execution_count": 1,
   "metadata": {},
   "outputs": [],
   "source": [
    "from enum import Enum, auto\n",
    "from copy import deepcopy, copy\n",
    "from typing import Union, List, Optional, Iterable\n",
    "from functools import reduce\n",
    "from collections import Counter"
   ]
  },
  {
   "cell_type": "code",
   "execution_count": 2,
   "metadata": {},
   "outputs": [],
   "source": [
    "class HashableCounter(Counter):\n",
    "    def __hash__(self):\n",
    "        return sum([hash((v,c)) for v,c in self.items()], 0)\n",
    "\n",
    "    def __sub__(self, other):\n",
    "        res = HashableCounter()\n",
    "        res.update(super().__sub__(other))\n",
    "        return res\n",
    "\n",
    "    def __add__(self, other):\n",
    "        res = HashableCounter()\n",
    "        res.update(super().__add__(other))\n",
    "        return res\n",
    "\n",
    "    def __copy__(self):\n",
    "        cop = HashableCounter()\n",
    "        cop.update(self)\n",
    "        return cop\n",
    "        \n",
    "    def __deepcopy__(self):\n",
    "        return self.__copy__()\n",
    "    \n",
    "    def __eq__(self, other):\n",
    "        if not isinstance(other, dict):\n",
    "            return False\n",
    "        \n",
    "        if len(self.items()) != len(other.items()):\n",
    "            return False\n",
    "        \n",
    "        for o,c in self.items():\n",
    "            if (o not in other) or other[o] != c:\n",
    "                return False\n",
    "        return True"
   ]
  },
  {
   "cell_type": "code",
   "execution_count": 3,
   "metadata": {},
   "outputs": [],
   "source": [
    "def is_var_negative(var, power=1):\n",
    "    if isinstance(var, MulExpression):\n",
    "        neg = var.negative()\n",
    "    elif isinstance(var, Symbolic):\n",
    "        neg = var.negative\n",
    "    elif isinstance(var, Expression):\n",
    "        neg = False\n",
    "    else:\n",
    "        neg = var < 0\n",
    "    return False if (power % 2 == 0) else neg"
   ]
  },
  {
   "cell_type": "code",
   "execution_count": 4,
   "metadata": {},
   "outputs": [],
   "source": [
    "class Expression:\n",
    "    def __init__(self, vars: Union[List, HashableCounter]):\n",
    "        self.vars = vars if isinstance(vars, HashableCounter) else HashableCounter(vars)\n",
    "\n",
    "    def __mul__(self, other):\n",
    "        if other == 0:\n",
    "            return 0\n",
    "        if isinstance(other, Expression):\n",
    "            return sum([var*mul*other for var, mul in self.vars.items()])\n",
    "        return Expression(HashableCounter({(var * other):mul for var,mul in self.vars.items()}))\n",
    "\n",
    "    def __rmul__(self, other):\n",
    "        if other == 0:\n",
    "            return 0\n",
    "        if isinstance(other, Expression):\n",
    "            return sum([other*mul*var for var, mul in self.vars.items()])\n",
    "        return Expression(HashableCounter({(other * var):mul for var,mul in self.vars.items()}))\n",
    "\n",
    "    def __add__(self, other):\n",
    "        vars = self.vars\n",
    "        if isinstance(other, Expression):\n",
    "            vars = self.vars + other.vars\n",
    "        else:\n",
    "            vars = self.vars + HashableCounter([other])\n",
    "        return Expression(vars)\n",
    "    \n",
    "    def __radd__(self, other):\n",
    "        return self.__add__(other)\n",
    "\n",
    "    def __sub__(self, other):\n",
    "        return self + (-1)*other\n",
    "\n",
    "    def __rsub__(self, other):\n",
    "        return other + (-1)*self\n",
    "\n",
    "    def __neg__(self):\n",
    "        vars = HashableCounter({-val: mul for val,mul in self.vars.items()})\n",
    "        return Expression(vars)\n",
    "\n",
    "    def __pow__(self, val):\n",
    "        if val == 0:\n",
    "            return 1\n",
    "        if val == 1:\n",
    "            return self\n",
    "        base = copy(self)\n",
    "        for i in range(val-1):\n",
    "            base *= self\n",
    "        return base\n",
    "\n",
    "    def __str__(self):\n",
    "        self_str = \"\"\n",
    "        for var, mul in self.vars.items():\n",
    "            if var == 0 or mul == 0:\n",
    "                continue\n",
    "            op = \"-\" if is_var_negative(var) else \"+\"\n",
    "            mul_prefix = \"-\" if (not self_str and is_var_negative(var)) else \"\"\n",
    "            if (mul > 0) and (mul != 1):\n",
    "                mul_prefix += f\"{mul}⋅\"\n",
    "            if (mul < 0) and (mul != -1):\n",
    "                mul_prefix = mul_prefix.replace(\"-\", \"\")\n",
    "            var_str = mul_prefix + str(var).replace(\"-\", \"\")\n",
    "            self_str += f\" {op} {var_str}\" if self_str else var_str\n",
    "        \n",
    "        return self_str\n",
    "\n",
    "    def __repr__(self):\n",
    "        # I know it's wrong, but it's a QoL for notebooks\n",
    "        return str(self)\n",
    "\n",
    "    def __eq__(self, other):\n",
    "        if isinstance(other, Expression):\n",
    "            return self.vars == other.vars\n",
    "        elif len(self.vars) == 1:\n",
    "            var, mul = next(iter(self.vars.items()))\n",
    "            return other == mul*var\n",
    "        else:\n",
    "            return False\n",
    "    \n",
    "    def calc(self):\n",
    "        vars_cpy = self.vars.copy()\n",
    "        vars_tmp = HashableCounter()\n",
    "        while vars_cpy:\n",
    "            var,mul = vars_cpy.popitem()\n",
    "            if var == 0 or mul == 0:\n",
    "                continue\n",
    "            if isinstance(var, MulExpression):\n",
    "                var = var.calc()\n",
    "                mul *= var.extract_numeric_constants()\n",
    "                neg_var = (-var).calc()\n",
    "            else:\n",
    "                neg_var = -var\n",
    "            found = False\n",
    "            found_neg = False\n",
    "            for rvar in vars_tmp.keys():\n",
    "                if neg_var == rvar:\n",
    "                    neg_var = rvar\n",
    "                    found_neg=True\n",
    "                elif var == rvar:\n",
    "                    mul += vars_tmp[rvar]\n",
    "                    var = rvar\n",
    "            if found:\n",
    "                vars_tmp.pop(var)\n",
    "            if found_neg:\n",
    "                rmul = vars_tmp.pop(neg_var)\n",
    "                if is_var_negative(var):\n",
    "                    sum_mul = rmul-mul\n",
    "                else:\n",
    "                    sum_mul = mul-rmul\n",
    "                if sum_mul > 0:\n",
    "                    vars_tmp[var] = sum_mul\n",
    "                elif sum_mul < 0:\n",
    "                    vars_tmp[neg_var] = -sum_mul\n",
    "            else:\n",
    "                vars_tmp[var] = mul\n",
    "                continue\n",
    "        \n",
    "        return Expression(vars_tmp) if vars_tmp else 0\n",
    "    \n",
    "\n",
    "    def sort_calc(self, verbose = False):\n",
    "        if verbose:\n",
    "            print(\"Expr sort\", self)\n",
    "        got_exp = False\n",
    "        new_vars = HashableCounter()\n",
    "        for var, mul in self.vars.items():\n",
    "            if isinstance(var, MulExpression):\n",
    "                new_var = var.sort_calc(verbose)\n",
    "                if isinstance(new_var, Expression):\n",
    "                    for rvar, rmul in new_var.vars.items():\n",
    "                        new_vars[rvar] += mul*rmul\n",
    "                        got_exp = True\n",
    "                else:\n",
    "                    new_vars[new_var] += mul\n",
    "            else:\n",
    "                new_vars[var] += mul\n",
    "\n",
    "        new_exp = Expression(new_vars)\n",
    "        return new_exp.sort_calc(verbose) if got_exp else new_exp.calc()\n",
    "        "
   ]
  },
  {
   "cell_type": "code",
   "execution_count": 5,
   "metadata": {},
   "outputs": [],
   "source": [
    "class Symbolic:\n",
    "    def __init__(self, symbol, negative = False, imaginary = False):\n",
    "        self.symbol = symbol\n",
    "        self.negative = negative\n",
    "        self.imaginary = imaginary\n",
    "    \n",
    "    def __add__(self, other):\n",
    "        return Expression([self, other])\n",
    "\n",
    "    def __radd__(self, other):\n",
    "        return Expression([other, self])\n",
    "\n",
    "    def __sub__(self, other):\n",
    "        if other == self:\n",
    "            return 0\n",
    "        return Expression([self, -other])\n",
    "\n",
    "    def __rsub__(self, other):\n",
    "        if other == self:\n",
    "            return 0\n",
    "        return Expression([other, -self])\n",
    "    \n",
    "    def __mul__(self, other):\n",
    "        if other == 0:\n",
    "            return 0\n",
    "        elif isinstance(other, Expression):\n",
    "            return other.__rmul__(self)\n",
    "        elif isinstance(other, Commutator):\n",
    "            return self*other.calc()\n",
    "        elif isinstance(other, MulExpression):\n",
    "            return other.__rmul__(self)\n",
    "        else:\n",
    "            return MulExpression([self, other])\n",
    "\n",
    "    def __rmul__(self, other):\n",
    "        if other == 0:\n",
    "            return 0\n",
    "        elif isinstance(other, Expression):\n",
    "            return other.__mul__(self)\n",
    "        elif isinstance(other, Commutator):\n",
    "            return other.calc()*self\n",
    "        elif isinstance(other, MulExpression):\n",
    "            return other.__mul__(self)\n",
    "        else:\n",
    "            return MulExpression([other, self])\n",
    "\n",
    "    def __pow__(self, val):\n",
    "        if val == 1:\n",
    "            return self\n",
    "        return MulExpression([self]*val)\n",
    "    \n",
    "    def _inverse(self):\n",
    "            return InverseSymbolic(self.symbol, self.negative, self.imaginary)\n",
    "        \n",
    "    def __rtruediv__(self, other):\n",
    "        if isinstance(other, int) or isinstance(other, float):\n",
    "            return (other * self._inverse()) if other > 1 else self._inverse()\n",
    "        raise TypeError()\n",
    "\n",
    "    def __neg__(self):\n",
    "        return self.__class__(self.symbol, not self.negative, self.imaginary)\n",
    "\n",
    "    def __bool__(self):\n",
    "        return True\n",
    "\n",
    "    def __eq__(self, other):\n",
    "        if isinstance(other, Symbolic):\n",
    "            return (type(self) == type(other)) and (self.symbol == other.symbol)\n",
    "        elif isinstance(other, Expression) or isinstance(other, MulExpression):\n",
    "            return other.__eq__(self)\n",
    "        return False\n",
    "\n",
    "    def __str__(self):\n",
    "        return (\"-\" if self.negative else \"\") + self.symbol\n",
    "    def __repr__(self):\n",
    "        # I know it's wrong, but it's a QoL for notebooks\n",
    "        return str(self)\n",
    "\n",
    "    def __hash__(self):\n",
    "        return hash(self.symbol) + hash(self.imaginary) + hash(self.negative)\n",
    "\n",
    "    def __copy__(self):\n",
    "        return self.__class__(self.symbol, self.negative, self.imaginary)\n",
    "    \n",
    "\n",
    "class InverseSymbolic(Symbolic):\n",
    "    def __str__(self):\n",
    "        return f\"({'-' if self.negative else ''}1/{self.symbol})\"\n",
    "\n",
    "    def _inverse(self):\n",
    "        return Symbolic(self.symbol, self.negative, self.imaginary)\n",
    "\n",
    "    def __hash__(self):\n",
    "        return hash(1) + hash(self.symbol) + hash(self.imaginary) + hash(self.negative)"
   ]
  },
  {
   "cell_type": "code",
   "execution_count": 6,
   "metadata": {},
   "outputs": [],
   "source": [
    "class Constant(Symbolic):\n",
    "    def _inverse(self):\n",
    "        return InverseConstant(self.symbol, self.negative, self.imaginary)\n",
    "\n",
    "class InverseConstant(InverseSymbolic, Constant):\n",
    "    def _inverse(self):\n",
    "        return Constant(self.symbol, self.negative, self.imaginary)"
   ]
  },
  {
   "cell_type": "code",
   "execution_count": 7,
   "metadata": {},
   "outputs": [],
   "source": [
    "class MulExpression:\n",
    "    def __init__(self, vars: Union[Symbolic, Iterable], constants: Optional[HashableCounter] = None):\n",
    "        self.constants = constants if constants else HashableCounter()\n",
    "        self.vars = []\n",
    "        if isinstance(vars, Constant):\n",
    "            self.constants[vars] = 1\n",
    "        elif isinstance(vars, Symbolic):\n",
    "            self.vars.append(vars)\n",
    "        elif isinstance(vars, Iterable):\n",
    "            for var in vars:\n",
    "                if isinstance(var, float) or isinstance(var, int) or isinstance(var, Constant):\n",
    "                    self.constants[var] += 1\n",
    "                elif isinstance(var, Symbolic):\n",
    "                    self.vars.append(var)\n",
    "                else:\n",
    "                    raise TypeError(f\"Var can't be {type(vars).__name__}\")\n",
    "        else:\n",
    "            raise TypeError(f\"Vars can't be {type(vars).__name__}\")\n",
    "\n",
    "    def negative(self):\n",
    "        def iterable_negative(iterable: Iterable):\n",
    "            neg = False\n",
    "            for var in iterable:\n",
    "                if isinstance(var, Symbolic):\n",
    "                    neg ^= var.negative\n",
    "                else:\n",
    "                    neg ^= (var < 0)\n",
    "            return neg\n",
    "        return iterable_negative(self.constants.elements()) ^ iterable_negative(self.vars)\n",
    "\n",
    "    def commutable(self):\n",
    "        if len(self.vars) < 2:\n",
    "            return True\n",
    "        for i in self.vars:\n",
    "            for j in self.vars:\n",
    "                if Commutator(i,j).calc() != 0:\n",
    "                    return False\n",
    "        return True\n",
    "\n",
    "    def calc(self):\n",
    "        simp_var_groups = []\n",
    "        for group in self._get_commutable_var_groups():\n",
    "            simp_vars = []\n",
    "            for var in group:\n",
    "                inv = 1/var\n",
    "                if inv in simp_vars:\n",
    "                    simp_vars.remove(inv)\n",
    "                else:\n",
    "                    simp_vars.append(var)\n",
    "            simp_var_groups.append(simp_vars)\n",
    "        simp = MulExpression(sum(simp_var_groups, []))\n",
    "        num_consts = 1\n",
    "        inverse = []\n",
    "        for c, power in self.constants.items():\n",
    "            if c in inverse:\n",
    "                continue\n",
    "            \n",
    "            if c == 0:\n",
    "                return 0\n",
    "\n",
    "            if c == i:\n",
    "                num_consts *= (-1)**int(power/2)\n",
    "                if power%2 == 0:\n",
    "                    continue\n",
    "                else:\n",
    "                    power = 1\n",
    "\n",
    "            if isinstance(c, int) or isinstance(c, float):\n",
    "                num_consts *= c**power\n",
    "                continue\n",
    "\n",
    "            if is_var_negative(c):\n",
    "                c = -c\n",
    "                num_consts *= -1\n",
    "\n",
    "            inv = 1/c                \n",
    "            if inv in self.constants:\n",
    "                inv_pow = self.constants[inv]\n",
    "                act_pow = power-inv_pow\n",
    "                inverse.append(inv)\n",
    "                if act_pow > 0:\n",
    "                    simp.constants[c] = act_pow\n",
    "                elif act_pow < 0:\n",
    "                    simp.constants[inv] = -act_pow\n",
    "                else:\n",
    "                    continue\n",
    "            elif c in simp.constants:\n",
    "                simp.constants[c] += power\n",
    "            else:\n",
    "                simp.constants[c] = power\n",
    "        if num_consts != 1:\n",
    "            simp.constants[num_consts] = 1\n",
    "        elif len(simp.constants) == 0 and len(simp.vars) == 0:\n",
    "            return 1\n",
    "        return simp\n",
    "    \n",
    "    def extract_numeric_constants(self) -> float:\n",
    "        num = 1\n",
    "        consts = list(self.constants.keys())\n",
    "        for c in consts:\n",
    "            if isinstance(c, int) or isinstance(c, float):\n",
    "                if c < 0:\n",
    "                    p = self.constants.pop(c)\n",
    "                    if p % 2 == 1:\n",
    "                        self.constants[-1] = 1\n",
    "                        c = -c\n",
    "                    num *= c**p\n",
    "                else:\n",
    "                    num *= (c**self.constants.pop(c))\n",
    "        return num\n",
    "\n",
    "    def __add__(self, other):\n",
    "        return other.__radd__(self) if isinstance(other, Expression) else Expression([self, other])\n",
    "\n",
    "    def __radd__(self, other):\n",
    "        return other.__add__(self) if isinstance(other, Expression) else Expression([other, self])\n",
    "\n",
    "    def __sub__(self, other):\n",
    "        if other == self:\n",
    "            return 0\n",
    "        return other.__rsub__(self) if isinstance(other, Expression) else Expression([self, -other])\n",
    "\n",
    "    def __rsub__(self, other):\n",
    "        if other == self:\n",
    "            return 0\n",
    "        return other.__sub__(self) if isinstance(other, Expression) else Expression([other, -self])\n",
    "\n",
    "    def __mul__(self, other):\n",
    "        expr = copy(self)\n",
    "        if isinstance(other, int) or isinstance(other, float) or isinstance(other, Constant):\n",
    "            if other == 0:\n",
    "                return 0\n",
    "            expr.constants[other] += 1\n",
    "        elif isinstance(other, Symbolic):\n",
    "            expr.vars.append(other)\n",
    "        elif isinstance(other, Expression):\n",
    "            return other.__rmul__(self)\n",
    "        elif isinstance(other, MulExpression):\n",
    "            expr.constants += other.constants\n",
    "            expr.vars += other.vars\n",
    "        else:\n",
    "            raise NotImplementedError(f\"Can't multiply {self.__class__.__name__} and {type(other).__name__}\")\n",
    "\n",
    "        return expr\n",
    "\n",
    "    def __rmul__(self, other):\n",
    "        expr = copy(self)\n",
    "        if isinstance(other, int) or isinstance(other, float) or isinstance(other, Constant):\n",
    "            if other == 0:\n",
    "                return 0\n",
    "            expr.constants[other] += 1\n",
    "        elif isinstance(other, Symbolic):\n",
    "            expr.vars.insert(0, other)\n",
    "        elif isinstance(other, Expression):\n",
    "            return other.__mul__(self)\n",
    "        elif isinstance(other, MulExpression):\n",
    "            expr.constants += other.constants\n",
    "            expr.vars = other.vars + expr.vars\n",
    "        else:\n",
    "            raise NotImplementedError(f\"Can't multiply {self.__class__.__name__} and {type(other).__name__}\")\n",
    "\n",
    "        return expr\n",
    "\n",
    "    def __pow__(self, val):\n",
    "        if val == 1:\n",
    "            return self\n",
    "        base = copy(self)\n",
    "        for i in range(val-1):\n",
    "            base *= self\n",
    "        return base\n",
    "        \n",
    "    def __neg__(self):\n",
    "        c = HashableCounter([-1])\n",
    "        c.update(self.constants)\n",
    "        return MulExpression(copy(self.vars), c)\n",
    "    \n",
    "    def _get_commutable_var_groups(self):\n",
    "        if not self.vars:\n",
    "            return [[]]\n",
    "        if len(self.vars) == 1:\n",
    "            return [[self.vars[0]]]\n",
    "        var_groups = []\n",
    "        current_group = []\n",
    "        prev_type = type(self.vars[0])\n",
    "        for var in self.vars:\n",
    "            if isinstance(var, prev_type):\n",
    "                current_group.append(var)\n",
    "            else:\n",
    "                var_groups.append(current_group)\n",
    "                current_group = [var]\n",
    "                prev_type = type(var)\n",
    "        var_groups.append(current_group)\n",
    "        return var_groups\n",
    "\n",
    "    def __eq__(self, other):\n",
    "        if isinstance(other, MulExpression):\n",
    "            if (other.constants == self.constants):\n",
    "                if self.commutable() and other.commutable():\n",
    "                    for var in self.vars:\n",
    "                        if self.vars.count(var) != other.vars.count(var):\n",
    "                            return False\n",
    "                    return True\n",
    "                else:\n",
    "                    if self.vars and other.vars:\n",
    "                        self_commutable_groups = self._get_commutable_var_groups()\n",
    "                        other_commutable_groups = other._get_commutable_var_groups()\n",
    "                        if len(self_commutable_groups) != len(other_commutable_groups):\n",
    "                            return False\n",
    "                        for i in range(len(self_commutable_groups)):\n",
    "                            for var in self_commutable_groups[i]:\n",
    "                                if self_commutable_groups[i].count(var) != other_commutable_groups[i].count(var):\n",
    "                                    return False\n",
    "                        for i in range(len(other_commutable_groups)):\n",
    "                            for var in other_commutable_groups[i]:\n",
    "                                if self_commutable_groups[i].count(var) != other_commutable_groups[i].count(var):\n",
    "                                    return False\n",
    "                        return True  # self_commutable_group is in other, and other is in self, so eq\n",
    "                return False\n",
    "        elif isinstance(other, Symbolic):\n",
    "            if len(self.constants) == 0 and len(self.vars) == 1:\n",
    "                return self.vars[0] == other\n",
    "            return False\n",
    "        elif isinstance(other, Expression):\n",
    "            return other.__eq__(self)\n",
    "        else:\n",
    "            if other == 0 and any([c == 0 for c in self.constants]):\n",
    "                return True\n",
    "            return (not self.vars) and self.constants == tuple([other])\n",
    "\n",
    "    def __str__(self):\n",
    "        self_str = \"\"\n",
    "        for const, power in self.constants.items():\n",
    "            if const == 1 or const == -1:\n",
    "                continue\n",
    "            self_str += (f\"{const}^{power}\" if power>1 else str(const)) + \"⋅\"\n",
    "        for grp in self._get_commutable_var_groups():\n",
    "            seen = []\n",
    "            for var in grp:\n",
    "                if var in seen:\n",
    "                    continue\n",
    "                power = grp.count(var)\n",
    "                self_str += (str(var) if power == 1 else (str(var) + f\"^{power}\")) + \"⋅\"\n",
    "                seen.append(var)\n",
    "        return (\"-\" if self.negative() else \"\") + self_str.replace(\"-\", \"\")[:-1]\n",
    "        \n",
    "    def __repr__(self):\n",
    "        # return f\"{self.__class__.__name__}({list(self.constants.elements())+list(self.vars)})\"\n",
    "        return str(self)\n",
    "\n",
    "    def __hash__(self):\n",
    "        return sum([hash(v) for v in self.vars], hash(self.constants))\n",
    "\n",
    "    def __copy__(self):\n",
    "        return MulExpression(copy(self.vars), copy(self.constants))\n",
    "    \n",
    "    def sort_calc(self, verbose = False):\n",
    "        if self.commutable():\n",
    "            return self\n",
    "        comm_groups = self._get_commutable_var_groups()\n",
    "        consts = MulExpression([], self.constants)\n",
    "        if len(comm_groups) == 2:\n",
    "            if isinstance(comm_groups[0][0], LocationOperator):\n",
    "                return self\n",
    "            else:\n",
    "                if verbose:\n",
    "                    print(\"Mul sort\", self)\n",
    "                return consts * (MulExpression(comm_groups[1] + comm_groups[0]) - Commutator(MulExpression(comm_groups[1]), MulExpression(comm_groups[0])).calc())\n",
    "        else:\n",
    "            if verbose:\n",
    "                print(\"Mul sort\", self)\n",
    "            i = 0\n",
    "            for grp in comm_groups:\n",
    "                if isinstance(grp[0], MomentumOperator):\n",
    "                    break\n",
    "                i += 1\n",
    "            if i == (len(comm_groups) - 1):\n",
    "                # sorted\n",
    "                return self\n",
    "            elif i == 0:\n",
    "                new_exp = MulExpression(sum(comm_groups[2:], comm_groups[1] + comm_groups[0]))\n",
    "                m = MulExpression(sum(comm_groups[2:], []))\n",
    "                comm = Commutator(MulExpression(comm_groups[1]), MulExpression(comm_groups[0])).calc()\n",
    "                return (consts*(new_exp - comm*m)).sort_calc(verbose)\n",
    "            elif i == (len(comm_groups) - 2):\n",
    "                new_exp = MulExpression(sum(comm_groups[:-2], []) + comm_groups[-1] + comm_groups[-2])\n",
    "                m = MulExpression(sum(comm_groups[:-2], []))\n",
    "                comm = Commutator(MulExpression(comm_groups[-1]), MulExpression(comm_groups[-2])).calc()\n",
    "                return (consts*(new_exp - m*comm)).sort_calc(verbose)\n",
    "            else:\n",
    "                new_exp = MulExpression(sum(comm_groups[:i], []) + comm_groups[i+1] + comm_groups[i] + sum(comm_groups[i+2:], []))\n",
    "                m1 = MulExpression(sum(comm_groups[:i], []))\n",
    "                m2 = MulExpression(sum(comm_groups[i+2:], []))\n",
    "                comm = Commutator(MulExpression(comm_groups[i+1]), MulExpression(comm_groups[i])).calc()\n",
    "                return (consts*(new_exp - m1*comm*m2)).sort_calc(verbose)"
   ]
  },
  {
   "cell_type": "code",
   "execution_count": 8,
   "metadata": {},
   "outputs": [],
   "source": [
    "class Axes(Enum):\n",
    "    i = auto()\n",
    "    j = auto()\n",
    "    k = auto()"
   ]
  },
  {
   "cell_type": "code",
   "execution_count": 9,
   "metadata": {},
   "outputs": [],
   "source": [
    "class DirectedOperator(Symbolic):\n",
    "    def __init__(self, name, direction: Optional[Axes]):\n",
    "        self.direction = direction\n",
    "        super().__init__(name)\n",
    "\n",
    "    def _inverse(self):\n",
    "        raise NotImplemented()\n",
    "\n",
    "    def __eq__(self, other):\n",
    "        return (isinstance(other, DirectedOperator) and self.direction == other.direction) and super().__eq__(other)\n",
    "\n",
    "    def __hash__(self):\n",
    "        return hash(self.direction) + super().__hash__()"
   ]
  },
  {
   "cell_type": "code",
   "execution_count": 10,
   "metadata": {},
   "outputs": [],
   "source": [
    "class LocationOperator(DirectedOperator):\n",
    "   def _inverse(self):\n",
    "        return InverseLocationOperator(self.symbol, self.direction)\n",
    "\n",
    "class InverseLocationOperator(InverseSymbolic, LocationOperator):\n",
    "    def _inverse(self):\n",
    "        return LocationOperator(self.symbol, self.direction)    "
   ]
  },
  {
   "cell_type": "code",
   "execution_count": 11,
   "metadata": {},
   "outputs": [],
   "source": [
    "class MomentumOperator(DirectedOperator):\n",
    "    def _inverse(self):\n",
    "        return InverseMomentumOperator(self.symbol, self.direction)\n",
    "\n",
    "class InverseMomentumOperator(InverseSymbolic, MomentumOperator):\n",
    "    def _inverse(self):\n",
    "        return MomentumOperator(self.symbol, self.direction)\n"
   ]
  },
  {
   "cell_type": "code",
   "execution_count": 12,
   "metadata": {},
   "outputs": [],
   "source": [
    "hbar = Constant(\"ℏ\")\n",
    "m = Constant(\"m\")\n",
    "omega = Constant(\"ω\")\n",
    "i = Constant(\"i\", imaginary=True)\n",
    "e = Constant(\"e\")\n",
    "m_1 = 1/m\n",
    "\n",
    "x = LocationOperator(\"x\", Axes.i)\n",
    "y = LocationOperator(\"y\", Axes.j)\n",
    "z = LocationOperator(\"z\", Axes.k)\n",
    "r = LocationOperator(\"r\", None)\n",
    "r_1 = 1/r\n",
    "\n",
    "px = MomentumOperator(\"Px\", Axes.i)\n",
    "py = MomentumOperator(\"Py\", Axes.j)\n",
    "pz = MomentumOperator(\"Pz\", Axes.k)"
   ]
  },
  {
   "cell_type": "code",
   "execution_count": 13,
   "metadata": {},
   "outputs": [],
   "source": [
    "class Commutator:\n",
    "    def __init__(self, left, right):\n",
    "        self.left = left\n",
    "        self.right = right\n",
    "\n",
    "    def __str__(self):\n",
    "        return f\"[{self.left}, {self.right}]\"\n",
    "\n",
    "    def __repr__(self):\n",
    "        # I know it's wrong, but it's a QoL for notebooks\n",
    "        # return f\"Commutator({self.left}, {self.right})\"\n",
    "        return str(self)\n",
    "\n",
    "    def __copy__(self):\n",
    "        return Commutator(self.left, self.right)\n",
    "\n",
    "    def expand(self, verbose=False):\n",
    "        if isinstance(self.left, Symbolic) or isinstance(self.right, Symbolic) or isinstance(self.left, Expression) or isinstance(self.right, Expression) or isinstance(self.left, MulExpression) or isinstance(self.right, MulExpression):\n",
    "            expr = self._expand_commutator(verbose)\n",
    "            if verbose:\n",
    "                print(f\"{self} -> {expr}\")\n",
    "            return expr\n",
    "        return copy(self)\n",
    "\n",
    "    def __add__(self, other):\n",
    "        return Expression([self, other])\n",
    "\n",
    "    def __radd__(self, other):\n",
    "        return Expression([other, self])\n",
    "\n",
    "    def __mul__(self, other):\n",
    "        return self.calc()*other\n",
    "\n",
    "    def __rmul__(self, other):\n",
    "        return other*self.calc()\n",
    "\n",
    "    def calc(self, verbose=False) -> str:\n",
    "        well_known = self._calc_well_known_commutators()\n",
    "        if well_known is not None:\n",
    "            if verbose:\n",
    "                print(f\"{self} = {well_known}\")\n",
    "            return well_known\n",
    "        else:\n",
    "            expr = self.expand(verbose)\n",
    "            expr = expr.calc() if isinstance(expr, Expression) or isinstance(expr, MulExpression) else expr\n",
    "            if verbose:\n",
    "                print(f\"{self} = {expr}\")\n",
    "            return expr\n",
    "    \n",
    "    def _calc_well_known_commutators(self) -> Union[Symbolic, int]:\n",
    "        if self.left == self.right:\n",
    "            return 0\n",
    "            \n",
    "        if isinstance(self.left, Constant) or isinstance(self.right, Constant):\n",
    "            # print(\"const\")\n",
    "            return 0\n",
    "\n",
    "        if isinstance(self.left, int) or isinstance(self.left, float) or isinstance(self.right, int) or isinstance(self.right, float):\n",
    "            # print(\"const 2\")\n",
    "            return 0\n",
    "\n",
    "        if (isinstance(self.left, MulExpression) and not self.left.vars) or (isinstance(self.right, MulExpression) and not self.right.vars):\n",
    "            return 0\n",
    "        \n",
    "        if isinstance(self.left, LocationOperator) and isinstance(self.right, LocationOperator):\n",
    "            # print(\"locs\")\n",
    "            return 0\n",
    "\n",
    "        if isinstance(self.left, MomentumOperator) and isinstance(self.right, MomentumOperator):\n",
    "            # print(\"moment\")\n",
    "            return 0\n",
    "\n",
    "        if isinstance(self.left, LocationOperator) and isinstance(self.right, MomentumOperator):\n",
    "            # print(\"loc,mom\")\n",
    "            if self.left.direction is None: # means r\n",
    "                if isinstance(self.left, InverseLocationOperator):\n",
    "                    return -i*hbar*LocationOperator(self.right.symbol[1], self.right.direction)*(self.left**3)\n",
    "                else:\n",
    "                    return i*hbar*LocationOperator(self.right.symbol[1], self.right.direction)*(1/self.left)\n",
    "            else:\n",
    "                return 0 if self.left.direction != self.right.direction else i*hbar\n",
    "\n",
    "        if isinstance(self.left, MomentumOperator) and isinstance(self.right, LocationOperator):\n",
    "            # print(\"mom,loc\")\n",
    "            if self.right.direction is None: # means r\n",
    "                if isinstance(self.right, InverseLocationOperator):\n",
    "                    return i*hbar*LocationOperator(self.left.symbol[1], self.left.direction)*(self.right**3)\n",
    "                else:\n",
    "                    return -i*hbar*LocationOperator(self.left.symbol[1], self.left.direction)*(1/self.right)\n",
    "            else:\n",
    "                return 0 if self.left.direction != self.right.direction else -i*hbar\n",
    "        \n",
    "        return None\n",
    "        \n",
    "    def _expand_commutator(self, verbose=False):\n",
    "        if isinstance(self.left, Expression):\n",
    "            s = sum([mul*(Commutator(var, self.right).calc(verbose)) for var, mul in self.left.vars.items()])\n",
    "            return s.calc() if isinstance(s, Expression) else s\n",
    "        elif isinstance(self.left, MulExpression):\n",
    "            consts = reduce(lambda x,y: (x**self.left.constants[x])*(y**self.left.constants[y]), self.left.constants) if self.left.constants else None\n",
    "            if len(self.left.vars) > 1:\n",
    "                rest_vars = MulExpression(self.left.vars[1:])\n",
    "                val = self.left.vars[0]*Commutator(rest_vars, self.right).calc(verbose) + Commutator(self.left.vars[0], self.right).calc(verbose)*rest_vars\n",
    "            else:\n",
    "                val = Commutator(self.left.vars[0], self.right).calc(verbose)\n",
    "            return consts*val if consts else val\n",
    "\n",
    "        if isinstance(self.right, Expression):\n",
    "            s = sum([mul*(Commutator(self.left, var).calc(verbose)) for var, mul in self.right.vars.items()])\n",
    "            return s.calc() if isinstance(s, Expression) else s\n",
    "        elif isinstance(self.right, MulExpression):\n",
    "            consts = reduce(lambda x,y: (x**self.right.constants[x])*(y**self.right.constants[y]), self.right.constants) if self.right.constants else None\n",
    "            if len(self.right.vars) > 1:\n",
    "                rest_vars = MulExpression(self.right.vars[1:])\n",
    "                val = self.right.vars[0]*Commutator(self.left, rest_vars).calc(verbose) + Commutator(self.left, self.right.vars[0]).calc(verbose)*rest_vars\n",
    "            else:\n",
    "                val = Commutator(self.left, self.right.vars[0]).calc(verbose)\n",
    "            return consts*val if consts else val\n",
    "\n",
    "        return (self.left*self.right - self.right*self.left).calc()"
   ]
  },
  {
   "attachments": {},
   "cell_type": "markdown",
   "metadata": {},
   "source": [
    "# 2. Sanity Tests"
   ]
  },
  {
   "cell_type": "code",
   "execution_count": 14,
   "metadata": {},
   "outputs": [
    {
     "name": "stdout",
     "output_type": "stream",
     "text": [
      "[i⋅ℏ⋅x, Px] = -ℏ^2\n",
      "[i⋅ℏ⋅x, i⋅ℏ⋅Py] = 0\n",
      "[i⋅ℏ⋅x, z] = 0\n",
      "[y, Px] = 0\n",
      "[y, i⋅ℏ⋅Py] = -ℏ^2\n",
      "[y, z] = 0\n",
      "[i, Px] = 0\n",
      "[i, i⋅ℏ⋅Py] = 0\n",
      "[i, z] = 0\n"
     ]
    }
   ],
   "source": [
    "for op_l in (i*hbar*x, y, i):\n",
    "    for op_m in (px, i*hbar*py, z):\n",
    "        comm = Commutator(op_l, op_m)\n",
    "        print(f\"{comm} = {comm.calc()}\")\n",
    "\n",
    "# should be -h^2,0,0,0,-h^2,0,0,0,0"
   ]
  },
  {
   "cell_type": "code",
   "execution_count": 15,
   "metadata": {},
   "outputs": [
    {
     "data": {
      "text/plain": [
       "-3⋅i⋅ℏ⋅x⋅(1/r)^5"
      ]
     },
     "execution_count": 15,
     "metadata": {},
     "output_type": "execute_result"
    }
   ],
   "source": [
    "Commutator(r_1**3,px).calc() # Should be -3i⋅ℏ⋅x⋅(1/r)^5"
   ]
  },
  {
   "cell_type": "code",
   "execution_count": 16,
   "metadata": {},
   "outputs": [
    {
     "name": "stdout",
     "output_type": "stream",
     "text": [
      "[x⋅Py - y⋅Px, x] = i⋅ℏ⋅y\n",
      "[x⋅Py - y⋅Px, y] = -i⋅ℏ⋅x\n",
      "[x⋅Py - y⋅Px, z] = 0\n",
      "[x⋅Py - y⋅Px, Px] = i⋅ℏ⋅Py\n",
      "[x⋅Py - y⋅Px, Py] = -i⋅ℏ⋅Px\n",
      "[x⋅Py - y⋅Px, Pz] = 0\n"
     ]
    }
   ],
   "source": [
    "L = x*py - y*px\n",
    "for op in (x,y,z,px,py,pz):\n",
    "    comm = Commutator(L, op)\n",
    "    print(f\"{comm} = {comm.calc()}\")\n",
    "# should be ihy,-ihx,0,ihpy,-ihpx,0"
   ]
  },
  {
   "cell_type": "code",
   "execution_count": 17,
   "metadata": {},
   "outputs": [
    {
     "data": {
      "text/plain": [
       "-2⋅i⋅ℏ⋅Px"
      ]
     },
     "execution_count": 17,
     "metadata": {},
     "output_type": "execute_result"
    }
   ],
   "source": [
    "Commutator(px**2, x).calc() # should be -2ihpx"
   ]
  },
  {
   "cell_type": "code",
   "execution_count": 18,
   "metadata": {},
   "outputs": [
    {
     "data": {
      "text/plain": [
       "0"
      ]
     },
     "execution_count": 18,
     "metadata": {},
     "output_type": "execute_result"
    }
   ],
   "source": [
    "Commutator(L, px**2+py**2).calc() # should be 0"
   ]
  },
  {
   "cell_type": "code",
   "execution_count": 19,
   "metadata": {},
   "outputs": [
    {
     "data": {
      "text/plain": [
       "0"
      ]
     },
     "execution_count": 19,
     "metadata": {},
     "output_type": "execute_result"
    }
   ],
   "source": [
    "Commutator(L, x**2+y**2+z**2).calc() # should be 0"
   ]
  },
  {
   "attachments": {},
   "cell_type": "markdown",
   "metadata": {},
   "source": [
    "# 3. 2D Harmonic Oscillator"
   ]
  },
  {
   "attachments": {},
   "cell_type": "markdown",
   "metadata": {},
   "source": [
    "## 3.1 Operator definiton and relations"
   ]
  },
  {
   "cell_type": "code",
   "execution_count": 20,
   "metadata": {},
   "outputs": [
    {
     "name": "stdout",
     "output_type": "stream",
     "text": [
      "[M,K] = -4.0⋅ℏ^2⋅ω^2⋅x⋅Py + 4.0⋅ℏ^2⋅ω^2⋅Px⋅y\n",
      "[K,L] = -2.0⋅(1/m)⋅i⋅ℏ⋅Px⋅Py - 2.0⋅m⋅ω^2⋅i⋅ℏ⋅x⋅y\n",
      "[L,M] = 2.0⋅(1/m)⋅ℏ^2⋅Py^2 - 2.0⋅ω^2⋅m⋅ℏ^2⋅x^2 - 2.0⋅(1/m)⋅ℏ^2⋅Px^2 + 2.0⋅ω^2⋅m⋅ℏ^2⋅y^2\n",
      "[H,M] = 0\n"
     ]
    }
   ],
   "source": [
    "Hx = 0.5*m_1*px**2 + 0.5*m*(omega**2)*x**2\n",
    "Hy = 0.5*m_1*py**2 + 0.5*m*(omega**2)*y**2\n",
    "H = Hx + Hy\n",
    "K = Hx-Hy\n",
    "L = x*py - y*px\n",
    "M = Commutator(K,L).calc()\n",
    "print(\"[M,K] =\", Commutator(M,K).calc())\n",
    "print(\"[K,L] =\", Commutator(K,L).calc())\n",
    "print(\"[L,M] =\", Commutator(L,M).calc())\n",
    "print(\"[H,M] =\", Commutator(H,M).calc())"
   ]
  },
  {
   "cell_type": "code",
   "execution_count": 21,
   "metadata": {},
   "outputs": [
    {
     "name": "stdout",
     "output_type": "stream",
     "text": [
      "[M,K] == -4⋅ℏ^2⋅ω^2⋅L? True\n",
      "[K,L] == M? True\n",
      "[L,M] == -4⋅ℏ^2⋅K True\n"
     ]
    }
   ],
   "source": [
    "print(\"[M,K] == -4⋅ℏ^2⋅ω^2⋅L?\", Commutator(M,K).calc() == (-4*hbar**2*omega**2*L).calc())\n",
    "print(\"[K,L] == M?\", Commutator(K,L).calc() == M)\n",
    "print(\"[L,M] == -4⋅ℏ^2⋅K\", Commutator(L,M).calc() == (-4*hbar**2*K).calc())"
   ]
  },
  {
   "attachments": {},
   "cell_type": "markdown",
   "metadata": {},
   "source": [
    "## 3.2 Normalization"
   ]
  },
  {
   "cell_type": "code",
   "execution_count": 22,
   "metadata": {},
   "outputs": [
    {
     "name": "stdout",
     "output_type": "stream",
     "text": [
      "A1 = -0.5⋅ω⋅m⋅x⋅y - 0.5⋅(1/ω)⋅(1/m)⋅Px⋅Py\n",
      "A2 = -0.25⋅ω⋅m⋅y^2 - 0.25⋅(1/ω)⋅(1/m)⋅Py^2 + 0.25⋅ω⋅m⋅x^2 + 0.25⋅(1/ω)⋅(1/m)⋅Px^2\n",
      "A3 = -0.5⋅y⋅Px + 0.5⋅x⋅Py\n"
     ]
    }
   ],
   "source": [
    "\n",
    "A1 = (0.25*(1/hbar)*(1/i)*(1/omega)*M).calc()\n",
    "A2 = (0.5*(1/omega)*K).calc()\n",
    "A3 = (0.5*L).calc()\n",
    "print(\"A1 =\", A1)\n",
    "print(\"A2 =\", A2)\n",
    "print(\"A3 =\", A3)"
   ]
  },
  {
   "cell_type": "code",
   "execution_count": 23,
   "metadata": {},
   "outputs": [
    {
     "name": "stdout",
     "output_type": "stream",
     "text": [
      "[A1, A2] == i⋅ℏ⋅A3? True\n",
      "[A2, A3] == i⋅ℏ⋅A1? True\n",
      "[A3, A1] == i⋅ℏ⋅A2? True\n"
     ]
    }
   ],
   "source": [
    "print(\"[A1, A2] == i⋅ℏ⋅A3?\", Commutator(A1,A2).calc() == (i*hbar*A3).calc())\n",
    "print(\"[A2, A3] == i⋅ℏ⋅A1?\", Commutator(A2,A3).calc() == (i*hbar*A1).calc())\n",
    "print(\"[A3, A1] == i⋅ℏ⋅A2?\", Commutator(A3,A1).calc() == (i*hbar*A2).calc())"
   ]
  },
  {
   "cell_type": "code",
   "execution_count": 24,
   "metadata": {},
   "outputs": [
    {
     "data": {
      "text/plain": [
       "-0.25⋅ℏ^2 - 0.25⋅y^2⋅Px^2 - 0.25⋅Py^2⋅x^2"
      ]
     },
     "execution_count": 24,
     "metadata": {},
     "output_type": "execute_result"
    }
   ],
   "source": [
    "expr = (A1**2+A2**2+A3**2).calc()\n",
    "(expr.calc()-(0.25*(1/omega)**2*H**2).calc()).calc().sort_calc()"
   ]
  },
  {
   "attachments": {},
   "cell_type": "markdown",
   "metadata": {},
   "source": [
    "$A^2-\\dfrac{1}{(4\\omega^2)}H^2=-\\dfrac{1}{4}\\hbar^2 ==> A^2 = \\dfrac{1}{(4\\omega^2)}H^2 - \\dfrac{1}{4}\\hbar^2$"
   ]
  },
  {
   "cell_type": "markdown",
   "metadata": {},
   "source": [
    "# 4. 3D Hydrogen Atom"
   ]
  },
  {
   "cell_type": "markdown",
   "metadata": {},
   "source": [
    "### 4.1 Operator definitons"
   ]
  },
  {
   "cell_type": "code",
   "execution_count": 25,
   "metadata": {},
   "outputs": [],
   "source": [
    "Lx = y*pz-z*py\n",
    "Ly = z*px-x*pz\n",
    "Lz = x*py-y*px\n",
    "\n",
    "Mx = 0.5*m_1*(py*Lz-pz*Ly-Ly*pz+Lz*py)-x*r_1*e**2\n",
    "My = -0.5*m_1*(px*Lz-pz*Lx-Lx*pz+Lz*px)-y*r_1*e**2\n",
    "Mz = 0.5*m_1*(px*Ly-py*Lx-Lx*py+Ly*px)-z*r_1*e**2"
   ]
  },
  {
   "cell_type": "markdown",
   "metadata": {},
   "source": [
    "### 4.2 Commutators"
   ]
  },
  {
   "cell_type": "code",
   "execution_count": 26,
   "metadata": {},
   "outputs": [
    {
     "name": "stdout",
     "output_type": "stream",
     "text": [
      "[Px, Lx] = 0\n",
      "[Px, Ly] = i⋅ℏ⋅Pz\n",
      "[Px, Lz] = -i⋅ℏ⋅Py\n",
      "[Py, Lx] = -i⋅ℏ⋅Pz\n",
      "[Py, Ly] = 0\n",
      "[Py, Lz] = i⋅ℏ⋅Px\n",
      "[Pz, Lx] = i⋅ℏ⋅Py\n",
      "[Pz, Ly] = -i⋅ℏ⋅Px\n",
      "[Pz, Lz] = 0\n"
     ]
    }
   ],
   "source": [
    "print(\"[Px, Lx] =\", Commutator(px, Lx).calc())\n",
    "print(\"[Px, Ly] =\", Commutator(px, Ly).calc())\n",
    "print(\"[Px, Lz] =\", Commutator(px, Lz).calc())\n",
    "\n",
    "print(\"[Py, Lx] =\", Commutator(py, Lx).calc())\n",
    "print(\"[Py, Ly] =\", Commutator(py, Ly).calc())\n",
    "print(\"[Py, Lz] =\", Commutator(py, Lz).calc())\n",
    "\n",
    "print(\"[Pz, Lx] =\", Commutator(pz, Lx).calc())\n",
    "print(\"[Pz, Ly] =\", Commutator(pz, Ly).calc())\n",
    "print(\"[Pz, Lz] =\", Commutator(pz, Lz).calc())"
   ]
  },
  {
   "cell_type": "code",
   "execution_count": 27,
   "metadata": {},
   "outputs": [
    {
     "name": "stdout",
     "output_type": "stream",
     "text": [
      "[Lx, Ly] == i⋅ℏ⋅Lz? True\n",
      "[Ly, Lz] == i⋅ℏ⋅Lx? True\n",
      "[Lz, Lx] == i⋅ℏ⋅Ly? True\n"
     ]
    }
   ],
   "source": [
    "print(\"[Lx, Ly] == i⋅ℏ⋅Lz?\", Commutator(Lx, Ly).calc() == (i*hbar*Lz).calc())\n",
    "print(\"[Ly, Lz] == i⋅ℏ⋅Lx?\", Commutator(Ly, Lz).calc() == (i*hbar*Lx).calc())\n",
    "print(\"[Lz, Lx] == i⋅ℏ⋅Ly?\", Commutator(Lz, Lx).calc() == (i*hbar*Ly).calc())"
   ]
  },
  {
   "cell_type": "code",
   "execution_count": 28,
   "metadata": {},
   "outputs": [
    {
     "name": "stdout",
     "output_type": "stream",
     "text": [
      "[Mx, Lx] = 0\n",
      "[My, Ly] = 0\n",
      "[Mz, Lz] = 0\n"
     ]
    }
   ],
   "source": [
    "print(\"[Mx, Lx] =\", Commutator(Mx, Lx).calc())\n",
    "print(\"[My, Ly] =\", Commutator(My, Ly).calc())\n",
    "print(\"[Mz, Lz] =\", Commutator(Mz, Lz).calc())"
   ]
  }
 ],
 "metadata": {
  "kernelspec": {
   "display_name": "Python 3 (ipykernel)",
   "language": "python",
   "name": "python3"
  },
  "language_info": {
   "codemirror_mode": {
    "name": "ipython",
    "version": 3
   },
   "file_extension": ".py",
   "mimetype": "text/x-python",
   "name": "python",
   "nbconvert_exporter": "python",
   "pygments_lexer": "ipython3",
   "version": "3.7.9"
  },
  "vscode": {
   "interpreter": {
    "hash": "52634da84371cba311ea128a5ea7cdc41ff074b781779e754b270ff9f8153cee"
   }
  }
 },
 "nbformat": 4,
 "nbformat_minor": 4
}
